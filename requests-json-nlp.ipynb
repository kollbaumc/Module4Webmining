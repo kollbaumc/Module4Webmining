{
 "cells": [
  {
   "cell_type": "markdown",
   "metadata": {},
   "source": [
    "# Web Mining and Applied NLP (44-620)\n",
    "\n",
    "## Requests, JSON, and NLP\n",
    "\n",
    "### Student Name:  Chris Kollbaum\n",
    "\n",
    "https://github.com/kollbaumc/Module4Webmining\n",
    "\n",
    "Perform the tasks described in the Markdown cells below.  When you have completed the assignment make sure your code cells have all been run (and have output beneath them) and ensure you have committed and pushed ALL of your changes to your assignment repository.\n",
    "\n",
    "Make sure you have [installed spaCy and its pipeline](https://spacy.io/usage#quickstart) and [spaCyTextBlob](https://spacy.io/universe/project/spacy-textblob)\n",
    "\n",
    "Every question that requires you to write code will have a code cell underneath it; you may either write your entire solution in that cell or write it in a python file (`.py`), then import and run the appropriate code to answer the question.\n",
    "\n",
    "This assignment requires that you write additional files (either JSON or pickle files); make sure to submit those files in your repository as well."
   ]
  },
  {
   "cell_type": "markdown",
   "metadata": {},
   "source": [
    "1. The following code accesses the [lyrics.ovh](https://lyricsovh.docs.apiary.io/#reference/0/lyrics-of-a-song/search) public api, searches for the lyrics of a song, and stores it in a dictionary object.  Write the resulting json to a file (either a JSON file or a pickle file; you choose). You will read in the contents of this file for future questions so we do not need to frequently access the API."
   ]
  },
  {
   "cell_type": "markdown",
   "metadata": {},
   "source": [
    "# Question 1"
   ]
  },
  {
   "cell_type": "code",
   "execution_count": 20,
   "metadata": {},
   "outputs": [
    {
     "name": "stdout",
     "output_type": "stream",
     "text": [
      "<Response [200]>\n"
     ]
    }
   ],
   "source": [
    "import requests\n",
    "import json\n",
    "\n",
    "\n",
    "\n",
    "ENDPOINT = 'https://api.musixmatch.com/ws/1.1/matcher.lyrics.get?q_track=Coldplay&q_artist=Yellow&apikey=a7ec36f6008bf0075e156108c992c0da'\n",
    "\n",
    "print(requests.get(ENDPOINT))\n"
   ]
  },
  {
   "cell_type": "code",
   "execution_count": 23,
   "metadata": {},
   "outputs": [
    {
     "name": "stdout",
     "output_type": "stream",
     "text": [
      "<class 'str'>\n",
      "{'message': {'header': {'status_code': 200, 'execute_time': 0.010725975036621}, 'body': {'lyrics': {'lyrics_id': 29685130, 'explicit': 0, 'lyrics_body': 'Look at the stars\\nLook how they shine for you\\n\\nAnd everything you do\\n\\nYeah, they were all yellow\\n\\nI came along\\nI wrote a song for you\\nAnd all the things you do\\n\\nAnd it was called Yellow\\n\\nSo then I took my turn\\nOh, what a thing to have done\\nAnd it was all yellow\\n...\\n\\n******* This Lyrics is NOT for Commercial use *******', 'script_tracking_url': 'https://tracking.musixmatch.com/t1.0/m_js/e_1/sn_0/l_29685130/su_0/rs_0/tr_3vUCAMoZ7smwIrDeND7QAi4vMhvGTmhjnTL94GAjnz2ccn8wqyenKP7yiuPBNS4f158c1PSAIIQ6nHuxGdW-Jhf6UKUBLXeXRqzK0WDSDStNA4g5Ym2YwM3Wmhl9Ebgg4BDCev4to9v2NHyb6-kS4uVhoGTriJWfJX9fh3yKbhhJ_YGb1QZbDLT5quwm8IdbIoJZPitrDDlGILCG2h1c-8MOE4pRX1A3B4XnUN-6nEf5yl8Y-dtSs9R0e3l4_25c1SfWvzOdcC_2MhWGaORhuau02QYZdXhZrIlv8ee1DTcBu99bCfmpkBaBQX63mAl7Z9R4t0PnPcKn4-5vWM3krmSy9-WU6uRP1PGgtUEyVadLnHJ4cTgaPtCM_Gr3T7DCgmrZuk8cqJuvRpDexHtGzw/', 'pixel_tracking_url': 'https://tracking.musixmatch.com/t1.0/m_img/e_1/sn_0/l_29685130/su_0/rs_0/tr_3vUCAHg1wzxS2EaWNagVoRnijJ43vyMhKdhRNcFEyRJ02ttLlGxyjO-TilzOrckLKNC-I24dUPW2Mlx2IbcR7DM1S7GAvK4n0eOzbIGYbaOWSOLEO_D9HVpqPxvaReQfxdA1I6SMOTzBgT5Gv9RW-8kMn_IVfmBeUame8VK4bKLuZ6Q5PB1CEsPxJIDB8XI4yKH87XOaeJDgtrglAHMygt1PlYr0nIhM2gLgHsRuSgTMZuV4aUM8WDKy_WlAnIB9CLENDc0C6t2rfMGPJRSQvMPolskCJtxkynHrWfTCT1KqwgWZZztLhrjjlbVqGb9zdrGGILHEy8xUJr5FAcjXrnMTieim0180Jbp6FYQ6wB6QeV2nS4ys-R6F_cbBsEOYqU-yibR3BU6jvinotwyhWA/', 'lyrics_copyright': 'Lyrics powered by www.musixmatch.com. This Lyrics is NOT for Commercial use and only 30% of the lyrics are returned.', 'updated_time': '2022-09-21T13:15:30Z'}}}}\n"
     ]
    }
   ],
   "source": [
    "response_body = requests.get(ENDPOINT).text\n",
    "print(type(response_body))\n",
    "activity = json.loads(response_body)\n",
    "print(activity)"
   ]
  },
  {
   "cell_type": "code",
   "execution_count": 203,
   "metadata": {},
   "outputs": [],
   "source": [
    "j = json.dumps(response_body)\n",
    "with open ('mylyrics.json', 'w') as f:\n",
    "    f.write(j)\n",
    "    f.close"
   ]
  },
  {
   "cell_type": "markdown",
   "metadata": {},
   "source": [
    "2. Read in the contents of your file.  Print the lyrics of the song (not the entire dictionary!) and use spaCyTextBlob to perform sentiment analysis on the lyrics.  Print the polarity score of the sentiment analysis.  Given that the range of the polarity score is `[-1.0,1.0]` which corresponds to how positive or negative the text in question is, do you think the lyrics have a more positive or negative connotaion?  Answer this question in a comment in your code cell."
   ]
  },
  {
   "cell_type": "markdown",
   "metadata": {},
   "source": [
    "# Question 2"
   ]
  },
  {
   "cell_type": "code",
   "execution_count": 160,
   "metadata": {},
   "outputs": [
    {
     "name": "stdout",
     "output_type": "stream",
     "text": [
      "Look at the stars\n",
      "Look how they shine for you\n",
      "\n",
      "And everything you do\n",
      "\n",
      "Yeah, they were all yellow\n",
      "\n",
      "I came along\n",
      "I wrote a song for you\n",
      "And all the things you do\n",
      "\n",
      "And it was called Yellow\n",
      "\n",
      "So then I took my turn\n",
      "Oh, what a thing to have done\n",
      "And it was all yellow\n",
      "...\n",
      "\n",
      "\n"
     ]
    }
   ],
   "source": [
    "results = \"Look at the stars\\nLook how they shine for you\\n\\nAnd everything you do\\n\\nYeah, they were all yellow\\n\\nI came along\\nI wrote a song for you\\nAnd all the things you do\\n\\nAnd it was called Yellow\\n\\nSo then I took my turn\\nOh, what a thing to have done\\nAnd it was all yellow\\n...\\n\\n\"\n",
    "print(results)"
   ]
  },
  {
   "cell_type": "code",
   "execution_count": 167,
   "metadata": {},
   "outputs": [
    {
     "name": "stdout",
     "output_type": "stream",
     "text": [
      "0.0\n"
     ]
    }
   ],
   "source": [
    "import spacy\n",
    "from spacytextblob.spacytextblob import SpacyTextBlob\n",
    "\n",
    "nlp = spacy.load('en_core_web_sm')\n",
    "nlp.add_pipe(\"spacytextblob\")\n",
    "doc = nlp(results)\n",
    "\n",
    "print(doc._.blob.polarity)\n",
    "#I would say that the song in question has kind of a sad tone, but I can see from the wording that it makes sense for the \n",
    "#polarity to be 0 as when you actually look at the words there are really no positive or negative words.  "
   ]
  },
  {
   "cell_type": "markdown",
   "metadata": {},
   "source": [
    "3. Write a function that takes an artist, song, and filename, accesses the lyrics.ovh api to get the song lyrics, and writes the results to the specified filename.  Test this function by getting the lyrics to any four songs of your choice and storing them in different files."
   ]
  },
  {
   "cell_type": "markdown",
   "metadata": {},
   "source": [
    "# Answer 3"
   ]
  },
  {
   "cell_type": "code",
   "execution_count": 202,
   "metadata": {},
   "outputs": [
    {
     "name": "stdout",
     "output_type": "stream",
     "text": [
      "<class 'str'>\n",
      "We go together\n",
      "Better than birds of a feather, you and me\n",
      "We change the weather, yeah\n",
      "I'm feeling heat in December when you're 'round me\n",
      "\n",
      "I've been dancing on top of cars and stumbling out of bars\n",
      "I follow you through the dark, can't get enough\n",
      "You're the medicine and the pain, the tattoo inside my brain\n",
      "And, baby, you know it's obvious\n",
      "\n",
      "I'm a sucker for you\n",
      "Say the word and I'll go anywhere blindly\n",
      "I'm a sucker for you, yeah\n",
      "Any road you take, you know that you'll find me\n",
      "I'm a sucker for all the subliminal things\n",
      "No one knows about you, about you, about you, about you\n",
      "And you're making the typical me, break my typical rules\n",
      "It's true, I'm a sucker for you, yeah\n",
      "...\n",
      "\n",
      "******* This Lyrics is NOT for Commercial use *******\n",
      "(1409622896326)\n"
     ]
    }
   ],
   "source": [
    "def get_music_lyrics(url, artist, song):\n",
    "    parameter = {'q_artist': artist, 'q_track': song}\n",
    "\n",
    "    url = 'https://api.musixmatch.com/ws/1.1' + '/matcher.lyrics.get?' + 'q_artist= {artist}&' +'q_track={song}&' + 'apikey=a7ec36f6008bf0075e156108c992c0da'\n",
    "    response_body = requests.get(url, parameter).text\n",
    "    print(type(response_body))\n",
    "    activity = json.loads(response_body)\n",
    "    print(activity['message']['body']['lyrics']['lyrics_body'])\n",
    "    j = json.dumps(activity['message']['body']['lyrics']['lyrics_body'])\n",
    "    with open ('mylyricsJonas.json', 'w') as f:\n",
    "        f.write(j)\n",
    "        f.close\n",
    "    \n",
    "    \n",
    "get_music_lyrics(url, 'Jonas Brothers', 'Sucker for You')\n",
    "    "
   ]
  },
  {
   "cell_type": "code",
   "execution_count": 204,
   "metadata": {},
   "outputs": [
    {
     "name": "stdout",
     "output_type": "stream",
     "text": [
      "<class 'str'>\n",
      "Love is a burning thing\n",
      "And it makes a fiery ring\n",
      "Bound by wild desire\n",
      "I fell into a ring of fire\n",
      "\n",
      "I fell into a burning ring of fire\n",
      "I went down, down, down\n",
      "And the flames went higher\n",
      "And it burns, burns, burns\n",
      "The ring of fire, the ring of fire\n",
      "\n",
      "I fell into a burning ring of fire\n",
      "I went down, down, down\n",
      "...\n",
      "\n",
      "******* This Lyrics is NOT for Commercial use *******\n",
      "(1409622896326)\n"
     ]
    }
   ],
   "source": [
    "def get_music_lyrics(url, artist, song):\n",
    "    parameter = {'q_artist': artist, 'q_track': song}\n",
    "\n",
    "    url = 'https://api.musixmatch.com/ws/1.1' + '/matcher.lyrics.get?' + 'q_artist= {artist}&' +'q_track={song}&' + 'apikey=a7ec36f6008bf0075e156108c992c0da'\n",
    "    response_body = requests.get(url, parameter).text\n",
    "    print(type(response_body))\n",
    "    activity = json.loads(response_body)\n",
    "    print(activity['message']['body']['lyrics']['lyrics_body'])\n",
    "    j = json.dumps(activity['message']['body']['lyrics']['lyrics_body'])\n",
    "    with open ('mylyricsJohnny.json', 'w') as f:\n",
    "        f.write(j)\n",
    "        f.close\n",
    "    \n",
    "    \n",
    "get_music_lyrics(url, 'Johnny Cash', 'Ring of Fire')"
   ]
  },
  {
   "cell_type": "code",
   "execution_count": 209,
   "metadata": {},
   "outputs": [
    {
     "name": "stdout",
     "output_type": "stream",
     "text": [
      "<class 'str'>\n",
      "This ain't for the best\n",
      "My reputation's never been worse, so\n",
      "You must like me for me\n",
      "\n",
      "We can't make any promises\n",
      "Now can we, babe?\n",
      "But you can make me a drink\n",
      "\n",
      "Dive bar on the East Side, where you at?\n",
      "Phone lights up my nightstand in the black\n",
      "Come here; you can meet me in the back\n",
      "\n",
      "Dark jeans and your Nikes, look at you\n",
      "Oh, damn, never seen that color blue\n",
      "Just think of the fun things we could do\n",
      "'Cause I like you\n",
      "\n",
      "This ain't for the best\n",
      "My reputation's never been worse, so\n",
      "You must like me for me\n",
      "Yeah, I want you\n",
      "\n",
      "We can't make any promises\n",
      "Now can we, babe?\n",
      "But you can make me a drink\n",
      "\n",
      "Is it cool that I said all that?\n",
      "Is it chill that you're in my head?\n",
      "'Cause I know that it's delicate (Delicate)\n",
      "\n",
      "Is it cool that I said all that?\n",
      "Is it too soon to do this yet?\n",
      "...\n",
      "\n",
      "******* This Lyrics is NOT for Commercial use *******\n",
      "(1409622896326)\n"
     ]
    }
   ],
   "source": [
    "def get_music_lyrics(url, artist, song):\n",
    "    parameter = {'q_artist': artist, 'q_track': song}\n",
    "\n",
    "    url = 'https://api.musixmatch.com/ws/1.1' + '/matcher.lyrics.get?' + 'q_artist= {artist}&' +'q_track={song}&' + 'apikey=a7ec36f6008bf0075e156108c992c0da'\n",
    "    response_body = requests.get(url, parameter).text\n",
    "    print(type(response_body))\n",
    "    activity = json.loads(response_body)\n",
    "    print(activity['message']['body']['lyrics']['lyrics_body'])\n",
    "    j = json.dumps(activity['message']['body']['lyrics']['lyrics_body'])\n",
    "    with open ('mylyricsTaylor.json', 'w') as f:\n",
    "        f.write(j)\n",
    "        f.close\n",
    "    \n",
    "    \n",
    "get_music_lyrics(url, 'Taylor Swift', 'Delicate')"
   ]
  },
  {
   "cell_type": "code",
   "execution_count": 205,
   "metadata": {},
   "outputs": [
    {
     "name": "stdout",
     "output_type": "stream",
     "text": [
      "<class 'str'>\n",
      "Don't worry, I won't hurt you\n",
      "I only want you to have some fun\n",
      "\n",
      "I was dreamin' when I wrote this\n",
      "Forgive me if it goes astray\n",
      "But when I woke up this mornin'\n",
      "Could've sworn it was judgment day\n",
      "\n",
      "The sky was all purple\n",
      "There were people runnin' everywhere\n",
      "Tryin' to run from the destruction\n",
      "You know I didn't even care\n",
      "\n",
      "Say say\n",
      "Two-thousand-zero-zero party over\n",
      "Oops out of time\n",
      "So tonight I'm gonna party like it's 1999\n",
      "\n",
      "(I was dreaming' when I wrote this)\n",
      "(So sue me if I go too fast)\n",
      "(Life is just a party, and parties weren't meant to last)\n",
      "War is all around us, my mind says prepare to fight\n",
      "So if I gotta die I'm gonna listen to my body tonight\n",
      "Yeah\n",
      "\n",
      "They say two-thousand-zero-zero party over\n",
      "Oops out of time\n",
      "So tonight I'm gonna party like it's 1999\n",
      "Yeah, Yeah\n",
      "\n",
      "Lemme tell ya something\n",
      "If you didn't come to party\n",
      "...\n",
      "\n",
      "******* This Lyrics is NOT for Commercial use *******\n",
      "(1409622896326)\n"
     ]
    }
   ],
   "source": [
    "def get_music_lyrics(url, artist, song):\n",
    "    parameter = {'q_artist': artist, 'q_track': song}\n",
    "\n",
    "    url = 'https://api.musixmatch.com/ws/1.1' + '/matcher.lyrics.get?' + 'q_artist= {artist}&' +'q_track={song}&' + 'apikey=a7ec36f6008bf0075e156108c992c0da'\n",
    "    response_body = requests.get(url, parameter).text\n",
    "    print(type(response_body))\n",
    "    activity = json.loads(response_body)\n",
    "    print(activity['message']['body']['lyrics']['lyrics_body'])\n",
    "    j = json.dumps(activity['message']['body']['lyrics']['lyrics_body'])\n",
    "    with open ('mylyricsPrince.json', 'w') as f:\n",
    "        f.write(j)\n",
    "        f.close\n",
    "    \n",
    "    \n",
    "get_music_lyrics(url, 'Prince', '1999')"
   ]
  },
  {
   "cell_type": "markdown",
   "metadata": {},
   "source": [
    "4. Write a function that takes the name of a file that contains song lyrics, loads the file, performs sentiment analysis, and returns the polarity score.  Use this function to print the polarity scores (with the name of the song) of the three files you created in question 3.  Does the reported polarity match your understanding of the song's lyrics? Why or why not do you think that might be?  Answer the questions in either a comment in the code cell or a markdown cell under the code cell."
   ]
  },
  {
   "cell_type": "markdown",
   "metadata": {},
   "source": [
    "# Answer 4"
   ]
  },
  {
   "cell_type": "code",
   "execution_count": 206,
   "metadata": {},
   "outputs": [
    {
     "name": "stdout",
     "output_type": "stream",
     "text": [
      "0.0\n"
     ]
    }
   ],
   "source": [
    "def polarity_score(filename):\n",
    "    import spacy\n",
    "    from spacytextblob.spacytextblob import SpacyTextBlob\n",
    "\n",
    "    nlp = spacy.load('en_core_web_sm')\n",
    "    nlp.add_pipe('spacytextblob')\n",
    "    doc = nlp(filename)\n",
    "    print(doc._.blob.polarity)\n",
    "    \n",
    "polarity_score('mylyricsPrince,json')\n",
    "\n",
    "    "
   ]
  },
  {
   "cell_type": "code",
   "execution_count": 207,
   "metadata": {},
   "outputs": [
    {
     "name": "stdout",
     "output_type": "stream",
     "text": [
      "0.0\n"
     ]
    }
   ],
   "source": [
    "def polarity_score(filename):\n",
    "    import spacy\n",
    "    from spacytextblob.spacytextblob import SpacyTextBlob\n",
    "\n",
    "    nlp = spacy.load('en_core_web_sm')\n",
    "    nlp.add_pipe('spacytextblob')\n",
    "    doc = nlp(filename)\n",
    "    print(doc._.blob.polarity)\n",
    "    \n",
    "polarity_score('mylyricsTaylor.json')"
   ]
  },
  {
   "cell_type": "code",
   "execution_count": 208,
   "metadata": {},
   "outputs": [
    {
     "name": "stdout",
     "output_type": "stream",
     "text": [
      "0.0\n"
     ]
    }
   ],
   "source": [
    "def polarity_score(filename):\n",
    "    import spacy\n",
    "    from spacytextblob.spacytextblob import SpacyTextBlob\n",
    "\n",
    "    nlp = spacy.load('en_core_web_sm')\n",
    "    nlp.add_pipe('spacytextblob')\n",
    "    doc = nlp('filename')\n",
    "    print(doc._.blob.polarity)\n",
    "    \n",
    "polarity_score('mylyricsJohnny.json')"
   ]
  },
  {
   "cell_type": "code",
   "execution_count": null,
   "metadata": {},
   "outputs": [],
   "source": []
  },
  {
   "cell_type": "code",
   "execution_count": null,
   "metadata": {},
   "outputs": [],
   "source": []
  }
 ],
 "metadata": {
  "kernelspec": {
   "display_name": "Python 3 (ipykernel)",
   "language": "python",
   "name": "python3"
  },
  "language_info": {
   "codemirror_mode": {
    "name": "ipython",
    "version": 3
   },
   "file_extension": ".py",
   "mimetype": "text/x-python",
   "name": "python",
   "nbconvert_exporter": "python",
   "pygments_lexer": "ipython3",
   "version": "3.9.12"
  }
 },
 "nbformat": 4,
 "nbformat_minor": 4
}
